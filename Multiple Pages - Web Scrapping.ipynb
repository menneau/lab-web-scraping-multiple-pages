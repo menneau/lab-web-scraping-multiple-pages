{
 "cells": [
  {
   "cell_type": "markdown",
   "id": "a2fd1c5a",
   "metadata": {},
   "source": [
    "# lab-web-scraping-multiple-pages"
   ]
  },
  {
   "cell_type": "markdown",
   "id": "d18d2ca9",
   "metadata": {},
   "source": [
    "### Retrieve an arbitrary Wikipedia page of \"Python\" and create a list of links on that page"
   ]
  },
  {
   "cell_type": "code",
   "execution_count": 29,
   "id": "dcb6d98e",
   "metadata": {},
   "outputs": [],
   "source": [
    "from bs4 import BeautifulSoup\n",
    "import requests\n",
    "import pandas as pd\n",
    "from time import sleep\n",
    "from random import randint"
   ]
  },
  {
   "cell_type": "code",
   "execution_count": 30,
   "id": "b988693a",
   "metadata": {},
   "outputs": [],
   "source": [
    "url1 = \"https://en.wikipedia.org/wiki/Python\""
   ]
  },
  {
   "cell_type": "code",
   "execution_count": 31,
   "id": "e1ee6a93",
   "metadata": {},
   "outputs": [
    {
     "name": "stdout",
     "output_type": "stream",
     "text": [
      "200\n"
     ]
    }
   ],
   "source": [
    "response = requests.get(url1)\n",
    "print(response.status_code)\n"
   ]
  },
  {
   "cell_type": "code",
   "execution_count": 37,
   "id": "a47bd9d7",
   "metadata": {},
   "outputs": [],
   "source": [
    "soup = BeautifulSoup(response.content, \"html.parser\")"
   ]
  },
  {
   "cell_type": "code",
   "execution_count": 34,
   "id": "fd6e2950",
   "metadata": {},
   "outputs": [],
   "source": [
    "#mw-content-text > div.mw-parser-output > ul:nth-child(7) > li:nth-child(1) > a"
   ]
  },
  {
   "cell_type": "code",
   "execution_count": 38,
   "id": "3a6fb443",
   "metadata": {},
   "outputs": [],
   "source": [
    "links=[]\n",
    "for a in soup.find_all('a'):\n",
    "    link = a.get('href')\n",
    "    if link:\n",
    "        text = a.get_text()\n",
    "        links.append(text)\n"
   ]
  },
  {
   "cell_type": "code",
   "execution_count": 39,
   "id": "8728a7de",
   "metadata": {},
   "outputs": [
    {
     "data": {
      "text/plain": [
       "['Jump to content',\n",
       " 'Main page',\n",
       " 'Contents',\n",
       " 'Current events',\n",
       " 'Random article',\n",
       " 'About Wikipedia',\n",
       " 'Contact us',\n",
       " 'Donate',\n",
       " 'Help',\n",
       " 'Learn to edit',\n",
       " 'Community portal',\n",
       " 'Recent changes',\n",
       " 'Upload file',\n",
       " '\\n\\n\\n\\n\\n\\n',\n",
       " '\\nSearch\\n',\n",
       " 'Create account',\n",
       " 'Log in',\n",
       " ' Create account',\n",
       " ' Log in',\n",
       " 'learn more',\n",
       " 'Contributions',\n",
       " 'Talk',\n",
       " '\\n(Top)\\n',\n",
       " '\\n\\n1Snakes\\n',\n",
       " '\\n\\n2Computing\\n',\n",
       " '\\n\\n3People\\n',\n",
       " '\\n\\n4Roller coasters\\n',\n",
       " '\\n\\n5Vehicles\\n',\n",
       " '\\n\\n6Weaponry\\n',\n",
       " '\\n\\n7Other uses\\n',\n",
       " '\\n\\n8See also\\n',\n",
       " 'Afrikaans',\n",
       " 'Alemannisch',\n",
       " 'العربية',\n",
       " 'Azərbaycanca',\n",
       " 'বাংলা',\n",
       " 'Беларуская',\n",
       " 'Български',\n",
       " 'Čeština',\n",
       " 'Dansk',\n",
       " 'Deutsch',\n",
       " 'Esperanto',\n",
       " 'Euskara',\n",
       " 'فارسی',\n",
       " 'Français',\n",
       " '한국어',\n",
       " 'Hrvatski',\n",
       " 'Ido',\n",
       " 'Bahasa Indonesia',\n",
       " 'Interlingua',\n",
       " 'Íslenska',\n",
       " 'Italiano',\n",
       " 'עברית',\n",
       " 'ქართული',\n",
       " 'Kongo',\n",
       " 'Latina',\n",
       " 'Lëtzebuergesch',\n",
       " 'Magyar',\n",
       " 'मराठी',\n",
       " 'Nederlands',\n",
       " '日本語',\n",
       " 'Norsk bokmål',\n",
       " 'Polski',\n",
       " 'Português',\n",
       " 'Русский',\n",
       " 'Slovenčina',\n",
       " 'Српски / srpski',\n",
       " 'Srpskohrvatski / српскохрватски',\n",
       " 'Suomi',\n",
       " 'Svenska',\n",
       " 'ไทย',\n",
       " 'Türkçe',\n",
       " 'Українська',\n",
       " 'اردو',\n",
       " 'Tiếng Việt',\n",
       " '中文',\n",
       " 'Edit links',\n",
       " 'Article',\n",
       " 'Talk',\n",
       " 'Read',\n",
       " 'Edit',\n",
       " 'View history',\n",
       " 'Read',\n",
       " 'Edit',\n",
       " 'View history',\n",
       " 'What links here',\n",
       " 'Related changes',\n",
       " 'Upload file',\n",
       " 'Special pages',\n",
       " 'Permanent link',\n",
       " 'Page information',\n",
       " 'Cite this page',\n",
       " 'Wikidata item',\n",
       " 'Download as PDF',\n",
       " 'Printable version',\n",
       " 'Wikimedia Commons',\n",
       " 'Python',\n",
       " 'python',\n",
       " 'edit',\n",
       " 'Pythonidae',\n",
       " 'Python (genus)',\n",
       " 'Python (mythology)',\n",
       " 'edit',\n",
       " 'Python (programming language)',\n",
       " 'CMU Common Lisp',\n",
       " 'PERQ 3',\n",
       " 'edit',\n",
       " 'Python of Aenus',\n",
       " 'Python (painter)',\n",
       " 'Python of Byzantium',\n",
       " 'Python of Catana',\n",
       " 'Python Anghelo',\n",
       " 'edit',\n",
       " 'Python (Efteling)',\n",
       " 'Python (Busch Gardens Tampa Bay)',\n",
       " 'Python (Coney Island, Cincinnati, Ohio)',\n",
       " 'edit',\n",
       " 'Python (automobile maker)',\n",
       " 'Python (Ford prototype)',\n",
       " 'edit',\n",
       " 'Python (missile)',\n",
       " 'Python (nuclear primary)',\n",
       " 'Colt Python',\n",
       " 'edit',\n",
       " 'Python (codename)',\n",
       " 'Python (film)',\n",
       " 'Monty Python',\n",
       " 'Python (Monty) Pictures',\n",
       " 'Timon of Phlius',\n",
       " 'edit',\n",
       " 'Pyton',\n",
       " 'Pithon',\n",
       " '',\n",
       " 'disambiguation',\n",
       " 'internal link',\n",
       " 'https://en.wikipedia.org/w/index.php?title=Python&oldid=1173762113',\n",
       " 'Categories',\n",
       " 'Disambiguation pages',\n",
       " 'Human name disambiguation pages',\n",
       " 'Disambiguation pages with given-name-holder lists',\n",
       " 'Short description is different from Wikidata',\n",
       " 'All article disambiguation pages',\n",
       " 'All disambiguation pages',\n",
       " 'Animal common name disambiguation pages',\n",
       " 'Creative Commons Attribution-ShareAlike License 4.0',\n",
       " '',\n",
       " 'Terms of Use',\n",
       " 'Privacy Policy',\n",
       " 'Wikimedia Foundation, Inc.',\n",
       " 'Privacy policy',\n",
       " 'About Wikipedia',\n",
       " 'Disclaimers',\n",
       " 'Contact Wikipedia',\n",
       " 'Code of Conduct',\n",
       " 'Mobile view',\n",
       " 'Developers',\n",
       " 'Statistics',\n",
       " 'Cookie statement',\n",
       " '',\n",
       " '']"
      ]
     },
     "execution_count": 39,
     "metadata": {},
     "output_type": "execute_result"
    }
   ],
   "source": [
    "links"
   ]
  },
  {
   "cell_type": "markdown",
   "id": "dc52a7e6",
   "metadata": {},
   "source": [
    "### Display the top 10 languages by number of native speakers stored in a pandas dataframe"
   ]
  },
  {
   "cell_type": "code",
   "execution_count": 13,
   "id": "b7d37561",
   "metadata": {},
   "outputs": [],
   "source": [
    "url7 = \"https://en.wikipedia.org/wiki/List_of_languages_by_number_of_native_speakers\""
   ]
  },
  {
   "cell_type": "code",
   "execution_count": 14,
   "id": "5bc3efc8",
   "metadata": {},
   "outputs": [
    {
     "name": "stdout",
     "output_type": "stream",
     "text": [
      "200\n"
     ]
    }
   ],
   "source": [
    "response7 = requests.get(url7)\n",
    "print(response7.status_code)"
   ]
  },
  {
   "cell_type": "code",
   "execution_count": 19,
   "id": "f0baef7c",
   "metadata": {},
   "outputs": [],
   "source": [
    "soup = BeautifulSoup(response7.content, \"html.parser\")"
   ]
  },
  {
   "cell_type": "code",
   "execution_count": 23,
   "id": "874faf12",
   "metadata": {},
   "outputs": [],
   "source": [
    "tab = soup.select(\"table\")[0]"
   ]
  },
  {
   "cell_type": "code",
   "execution_count": 25,
   "id": "33594890",
   "metadata": {},
   "outputs": [
    {
     "name": "stdout",
     "output_type": "stream",
     "text": [
      "['Mandarin Chinese(incl. Standard Chinese, but excl. other varieties)', 'Spanish', 'English', 'Hindi(excl. Urdu, and other languages)', 'Portuguese', 'Bengali', 'Russian', 'Japanese', 'Yue Chinese(incl. Cantonese)', 'Vietnamese', 'Turkish', 'Wu Chinese(incl. Shanghainese)', 'Marathi', 'Telugu', 'Korean', 'French', 'Tamil', 'Egyptian Spoken Arabic(excl. Saʽidi Arabic)', 'Standard German', 'Urdu(excl. Hindi)', 'Javanese', 'Western Punjabi(excl. Eastern Punjabi)', 'Italian', 'Gujarati', 'Iranian Persian(excl. Dari and Tajik)', 'Bhojpuri', 'Hausa']\n",
      "['939', '485', '380', '345', '236', '234', '147', '123', '86.1', '85.0', '84.0', '83.4', '83.2', '83.0', '81.7', '80.8', '78.6', '77.4', '75.3', '70.6', '68.3', '66.7', '64.6', '57.1', '57.2', '52.3', '51.7']\n"
     ]
    }
   ],
   "source": [
    "languages = []\n",
    "speakers = []\n",
    "\n",
    "for row in tab.select(\"tr\"):\n",
    "    cells = row.select(\"td\")\n",
    "    if len(cells) > 1:\n",
    "        language = cells[0].get_text().strip()\n",
    "        languages.append(language)\n",
    "        \n",
    "        # Number of speakers, assuming it's in the second column (cell[1])\n",
    "        speaker_count = cells[1].get_text().strip()\n",
    "        speakers.append(speaker_count)\n",
    "        \n",
    "print(languages)\n",
    "print(speakers)"
   ]
  },
  {
   "cell_type": "code",
   "execution_count": 26,
   "id": "99dc985f",
   "metadata": {},
   "outputs": [
    {
     "data": {
      "text/html": [
       "<div>\n",
       "<style scoped>\n",
       "    .dataframe tbody tr th:only-of-type {\n",
       "        vertical-align: middle;\n",
       "    }\n",
       "\n",
       "    .dataframe tbody tr th {\n",
       "        vertical-align: top;\n",
       "    }\n",
       "\n",
       "    .dataframe thead th {\n",
       "        text-align: right;\n",
       "    }\n",
       "</style>\n",
       "<table border=\"1\" class=\"dataframe\">\n",
       "  <thead>\n",
       "    <tr style=\"text-align: right;\">\n",
       "      <th></th>\n",
       "      <th>Languages</th>\n",
       "      <th>Number_of_Native_Speakers</th>\n",
       "    </tr>\n",
       "  </thead>\n",
       "  <tbody>\n",
       "    <tr>\n",
       "      <th>0</th>\n",
       "      <td>Mandarin Chinese(incl. Standard Chinese, but e...</td>\n",
       "      <td>939</td>\n",
       "    </tr>\n",
       "    <tr>\n",
       "      <th>1</th>\n",
       "      <td>Spanish</td>\n",
       "      <td>485</td>\n",
       "    </tr>\n",
       "    <tr>\n",
       "      <th>2</th>\n",
       "      <td>English</td>\n",
       "      <td>380</td>\n",
       "    </tr>\n",
       "    <tr>\n",
       "      <th>3</th>\n",
       "      <td>Hindi(excl. Urdu, and other languages)</td>\n",
       "      <td>345</td>\n",
       "    </tr>\n",
       "    <tr>\n",
       "      <th>4</th>\n",
       "      <td>Portuguese</td>\n",
       "      <td>236</td>\n",
       "    </tr>\n",
       "    <tr>\n",
       "      <th>5</th>\n",
       "      <td>Bengali</td>\n",
       "      <td>234</td>\n",
       "    </tr>\n",
       "    <tr>\n",
       "      <th>6</th>\n",
       "      <td>Russian</td>\n",
       "      <td>147</td>\n",
       "    </tr>\n",
       "    <tr>\n",
       "      <th>7</th>\n",
       "      <td>Japanese</td>\n",
       "      <td>123</td>\n",
       "    </tr>\n",
       "    <tr>\n",
       "      <th>8</th>\n",
       "      <td>Yue Chinese(incl. Cantonese)</td>\n",
       "      <td>86.1</td>\n",
       "    </tr>\n",
       "    <tr>\n",
       "      <th>9</th>\n",
       "      <td>Vietnamese</td>\n",
       "      <td>85.0</td>\n",
       "    </tr>\n",
       "  </tbody>\n",
       "</table>\n",
       "</div>"
      ],
      "text/plain": [
       "                                           Languages Number_of_Native_Speakers\n",
       "0  Mandarin Chinese(incl. Standard Chinese, but e...                       939\n",
       "1                                            Spanish                       485\n",
       "2                                            English                       380\n",
       "3             Hindi(excl. Urdu, and other languages)                       345\n",
       "4                                         Portuguese                       236\n",
       "5                                            Bengali                       234\n",
       "6                                            Russian                       147\n",
       "7                                           Japanese                       123\n",
       "8                       Yue Chinese(incl. Cantonese)                      86.1\n",
       "9                                         Vietnamese                      85.0"
      ]
     },
     "execution_count": 26,
     "metadata": {},
     "output_type": "execute_result"
    }
   ],
   "source": [
    "langtab = pd.DataFrame({\"Languages\":languages, \"Number_of_Native_Speakers\":speakers})\n",
    "langtab.head(10)"
   ]
  },
  {
   "cell_type": "markdown",
   "id": "ebdb6f10",
   "metadata": {},
   "source": [
    "### Create a Python list with the top ten FBI's Most Wanted names"
   ]
  },
  {
   "cell_type": "code",
   "execution_count": 42,
   "id": "49f508d6",
   "metadata": {},
   "outputs": [],
   "source": [
    "url = 'https://www.fbi.gov/wanted/topten'\n",
    "response = requests.get(url)\n",
    "soup = BeautifulSoup(response.content, \"html.parser\")\n",
    "# soup"
   ]
  },
  {
   "cell_type": "code",
   "execution_count": 44,
   "id": "da0ad7fb",
   "metadata": {},
   "outputs": [
    {
     "data": {
      "text/plain": [
       "[<li class=\"portal-type-person castle-grid-block-item\">\n",
       " <a href=\"https://www.fbi.gov/wanted/topten/alejandro-castillo\">\n",
       " <div class=\"focuspoint\" data-base-url=\"https://www.fbi.gov/wanted/topten/alejandro-castillo/@@images/image/\" data-focus-x=\"-0.0322580645161\" data-focus-y=\"-0.144328217008\" data-h=\"692\" data-scale=\"preview\" data-scales-info='{\"thumb\": {\"w\": 128, \"h\": 158}, \"high\": {\"w\": 1400, \"h\": 1730}, \"tile\": {\"w\": 64, \"h\": 79}, \"mini\": {\"w\": 200, \"h\": 247}, \"preview\": {\"w\": 400, \"h\": 494}, \"icon\": {\"w\": 32, \"h\": 39}, \"large\": {\"w\": 768, \"h\": 949}, \"listing\": {\"w\": 16, \"h\": 19}}' data-w=\"560\"><img alt=\"ALEJANDRO ROSALES CASTILLO\" class=\"\" src=\"https://www.fbi.gov/wanted/topten/alejandro-castillo/@@images/image/preview\"/></div>\n",
       " </a>\n",
       " <h3 class=\"title\">\n",
       " <a href=\"https://www.fbi.gov/wanted/topten/alejandro-castillo\">ALEJANDRO ROSALES CASTILLO</a>\n",
       " </h3>\n",
       " </li>,\n",
       " <li class=\"portal-type-person castle-grid-block-item\">\n",
       " <a href=\"https://www.fbi.gov/wanted/topten/ruja-ignatova\">\n",
       " <div class=\"focuspoint\" data-base-url=\"https://www.fbi.gov/wanted/topten/ruja-ignatova/@@images/image/\" data-focus-x=\"-0.0933333333333\" data-focus-y=\"-0.0320872369214\" data-h=\"692\" data-scale=\"preview\" data-scales-info='{\"thumb\": {\"w\": 128, \"h\": 137}, \"high\": {\"w\": 1400, \"h\": 1499}, \"tile\": {\"w\": 64, \"h\": 68}, \"mini\": {\"w\": 200, \"h\": 214}, \"preview\": {\"w\": 400, \"h\": 428}, \"icon\": {\"w\": 32, \"h\": 34}, \"large\": {\"w\": 768, \"h\": 822}, \"listing\": {\"w\": 16, \"h\": 17}}' data-w=\"646\"><img alt=\"RUJA IGNATOVA\" class=\"\" src=\"https://www.fbi.gov/wanted/topten/ruja-ignatova/@@images/image/preview\"/></div>\n",
       " </a>\n",
       " <h3 class=\"title\">\n",
       " <a href=\"https://www.fbi.gov/wanted/topten/ruja-ignatova\">RUJA IGNATOVA</a>\n",
       " </h3>\n",
       " </li>,\n",
       " <li class=\"portal-type-person castle-grid-block-item\">\n",
       " <a href=\"https://www.fbi.gov/wanted/topten/donald-eugene-fields-ii\">\n",
       " <div class=\"focuspoint\" data-base-url=\"https://www.fbi.gov/wanted/topten/donald-eugene-fields-ii/@@images/image/\" data-focus-x=\"-0.0918519083659\" data-focus-y=\"-0.0605950571806\" data-h=\"692\" data-scale=\"preview\" data-scales-info='{\"thumb\": {\"w\": 128, \"h\": 197}, \"high\": {\"w\": 1400, \"h\": 2162}, \"tile\": {\"w\": 64, \"h\": 98}, \"mini\": {\"w\": 200, \"h\": 308}, \"preview\": {\"w\": 400, \"h\": 617}, \"icon\": {\"w\": 32, \"h\": 49}, \"large\": {\"w\": 768, \"h\": 1186}, \"listing\": {\"w\": 16, \"h\": 24}}' data-w=\"448\"><img alt=\"DONALD EUGENE FIELDS II\" class=\"\" src=\"https://www.fbi.gov/wanted/topten/donald-eugene-fields-ii/@@images/image/preview\"/></div>\n",
       " </a>\n",
       " <h3 class=\"title\">\n",
       " <a href=\"https://www.fbi.gov/wanted/topten/donald-eugene-fields-ii\">DONALD EUGENE FIELDS II</a>\n",
       " </h3>\n",
       " </li>,\n",
       " <li class=\"portal-type-person castle-grid-block-item\">\n",
       " <a href=\"https://www.fbi.gov/wanted/topten/alexis-flores\">\n",
       " <div class=\"focuspoint\" data-base-url=\"https://www.fbi.gov/wanted/topten/alexis-flores/@@images/image/\" data-focus-x=\"0.0559999593099\" data-focus-y=\"-0.198262964821\" data-h=\"692\" data-scale=\"preview\" data-scales-info='{\"thumb\": {\"w\": 128, \"h\": 171}, \"high\": {\"w\": 1400, \"h\": 1881}, \"tile\": {\"w\": 64, \"h\": 85}, \"mini\": {\"w\": 200, \"h\": 268}, \"preview\": {\"w\": 400, \"h\": 537}, \"icon\": {\"w\": 32, \"h\": 42}, \"large\": {\"w\": 768, \"h\": 1031}, \"listing\": {\"w\": 16, \"h\": 21}}' data-w=\"515\"><img alt=\"ALEXIS FLORES\" class=\"\" src=\"https://www.fbi.gov/wanted/topten/alexis-flores/@@images/image/preview\"/></div>\n",
       " </a>\n",
       " <h3 class=\"title\">\n",
       " <a href=\"https://www.fbi.gov/wanted/topten/alexis-flores\">ALEXIS FLORES</a>\n",
       " </h3>\n",
       " </li>,\n",
       " <li class=\"portal-type-person castle-grid-block-item\">\n",
       " <a href=\"https://www.fbi.gov/wanted/topten/arnoldo-jimenez\">\n",
       " <div class=\"focuspoint\" data-base-url=\"https://www.fbi.gov/wanted/topten/arnoldo-jimenez/@@images/image/\" data-focus-x=\"-0.123333333333\" data-focus-y=\"0.03466668023\" data-h=\"711\" data-scale=\"preview\" data-scales-info='{\"thumb\": {\"w\": 127, \"h\": 191}, \"high\": {\"w\": 1400, \"h\": 2100}, \"tile\": {\"w\": 63, \"h\": 95}, \"mini\": {\"w\": 200, \"h\": 300}, \"preview\": {\"w\": 400, \"h\": 600}, \"icon\": {\"w\": 31, \"h\": 47}, \"large\": {\"w\": 768, \"h\": 1152}, \"listing\": {\"w\": 15, \"h\": 23}}' data-w=\"474\"><img alt=\"ARNOLDO JIMENEZ\" class=\"\" src=\"https://www.fbi.gov/wanted/topten/arnoldo-jimenez/@@images/image/preview\"/></div>\n",
       " </a>\n",
       " <h3 class=\"title\">\n",
       " <a href=\"https://www.fbi.gov/wanted/topten/arnoldo-jimenez\">ARNOLDO JIMENEZ</a>\n",
       " </h3>\n",
       " </li>,\n",
       " <li class=\"portal-type-person castle-grid-block-item\">\n",
       " <a href=\"https://www.fbi.gov/wanted/topten/omar-alexander-cardenas\">\n",
       " <div class=\"focuspoint\" data-base-url=\"https://www.fbi.gov/wanted/topten/omar-alexander-cardenas/@@images/image/\" data-focus-x=\"-0.0266666666667\" data-focus-y=\"-0.0495260518874\" data-h=\"692\" data-scale=\"preview\" data-scales-info='{\"thumb\": {\"w\": 128, \"h\": 180}, \"high\": {\"w\": 1400, \"h\": 1969}, \"tile\": {\"w\": 64, \"h\": 90}, \"mini\": {\"w\": 200, \"h\": 281}, \"preview\": {\"w\": 400, \"h\": 562}, \"icon\": {\"w\": 32, \"h\": 45}, \"large\": {\"w\": 768, \"h\": 1080}, \"listing\": {\"w\": 16, \"h\": 22}}' data-w=\"492\"><img alt=\"OMAR ALEXANDER CARDENAS\" class=\"\" src=\"https://www.fbi.gov/wanted/topten/omar-alexander-cardenas/@@images/image/preview\"/></div>\n",
       " </a>\n",
       " <h3 class=\"title\">\n",
       " <a href=\"https://www.fbi.gov/wanted/topten/omar-alexander-cardenas\">OMAR ALEXANDER CARDENAS</a>\n",
       " </h3>\n",
       " </li>,\n",
       " <li class=\"portal-type-person castle-grid-block-item\">\n",
       " <a href=\"https://www.fbi.gov/wanted/topten/yulan-adonay-archaga-carias\">\n",
       " <div class=\"focuspoint\" data-base-url=\"https://www.fbi.gov/wanted/topten/yulan-adonay-archaga-carias/@@images/image/\" data-focus-x=\"0.0866666666667\" data-focus-y=\"-0.0993117160853\" data-h=\"692\" data-scale=\"preview\" data-scales-info='{\"thumb\": {\"w\": 128, \"h\": 144}, \"high\": {\"w\": 1400, \"h\": 1583}, \"tile\": {\"w\": 64, \"h\": 72}, \"mini\": {\"w\": 200, \"h\": 226}, \"preview\": {\"w\": 400, \"h\": 452}, \"icon\": {\"w\": 32, \"h\": 36}, \"large\": {\"w\": 768, \"h\": 868}, \"listing\": {\"w\": 16, \"h\": 18}}' data-w=\"612\"><img alt=\"YULAN ADONAY ARCHAGA CARIAS\" class=\"\" src=\"https://www.fbi.gov/wanted/topten/yulan-adonay-archaga-carias/@@images/image/preview\"/></div>\n",
       " </a>\n",
       " <h3 class=\"title\">\n",
       " <a href=\"https://www.fbi.gov/wanted/topten/yulan-adonay-archaga-carias\">YULAN ADONAY ARCHAGA CARIAS</a>\n",
       " </h3>\n",
       " </li>,\n",
       " <li class=\"portal-type-person castle-grid-block-item\">\n",
       " <a href=\"https://www.fbi.gov/wanted/topten/bhadreshkumar-chetanbhai-patel\">\n",
       " <div class=\"focuspoint\" data-base-url=\"https://www.fbi.gov/wanted/topten/bhadreshkumar-chetanbhai-patel/@@images/image/\" data-focus-x=\"0.0\" data-focus-y=\"-0.0\" data-h=\"692\" data-scale=\"preview\" data-scales-info='{\"thumb\": {\"w\": 128, \"h\": 170}, \"high\": {\"w\": 1400, \"h\": 1866}, \"tile\": {\"w\": 64, \"h\": 85}, \"mini\": {\"w\": 200, \"h\": 266}, \"preview\": {\"w\": 400, \"h\": 533}, \"icon\": {\"w\": 32, \"h\": 42}, \"large\": {\"w\": 768, \"h\": 1024}, \"listing\": {\"w\": 16, \"h\": 21}}' data-w=\"519\"><img alt=\"BHADRESHKUMAR CHETANBHAI PATEL\" class=\"\" src=\"https://www.fbi.gov/wanted/topten/bhadreshkumar-chetanbhai-patel/@@images/image/preview\"/></div>\n",
       " </a>\n",
       " <h3 class=\"title\">\n",
       " <a href=\"https://www.fbi.gov/wanted/topten/bhadreshkumar-chetanbhai-patel\">BHADRESHKUMAR CHETANBHAI PATEL</a>\n",
       " </h3>\n",
       " </li>,\n",
       " <li class=\"portal-type-person castle-grid-block-item\">\n",
       " <a href=\"https://www.fbi.gov/wanted/topten/wilver-villegas-palomino\">\n",
       " <div class=\"focuspoint\" data-base-url=\"https://www.fbi.gov/wanted/topten/wilver-villegas-palomino/@@images/image/\" data-focus-x=\"-0.04\" data-focus-y=\"0.050375\" data-h=\"692\" data-scale=\"preview\" data-scales-info='{\"thumb\": {\"w\": 128, \"h\": 160}, \"high\": {\"w\": 1400, \"h\": 1751}, \"tile\": {\"w\": 64, \"h\": 80}, \"mini\": {\"w\": 200, \"h\": 250}, \"preview\": {\"w\": 400, \"h\": 500}, \"icon\": {\"w\": 32, \"h\": 40}, \"large\": {\"w\": 768, \"h\": 961}, \"listing\": {\"w\": 16, \"h\": 20}}' data-w=\"553\"><img alt=\"WILVER VILLEGAS-PALOMINO\" class=\"\" src=\"https://www.fbi.gov/wanted/topten/wilver-villegas-palomino/@@images/image/preview\"/></div>\n",
       " </a>\n",
       " <h3 class=\"title\">\n",
       " <a href=\"https://www.fbi.gov/wanted/topten/wilver-villegas-palomino\">WILVER VILLEGAS-PALOMINO</a>\n",
       " </h3>\n",
       " </li>,\n",
       " <li class=\"portal-type-person castle-grid-block-item\">\n",
       " <a href=\"https://www.fbi.gov/wanted/topten/jose-rodolfo-villarreal-hernandez\">\n",
       " <div class=\"focuspoint overlay-image-container\" data-base-url=\"https://www.fbi.gov/wanted/topten/jose-rodolfo-villarreal-hernandez/@@images/image/\" data-focus-x=\"0.16\" data-focus-y=\"-0.0742131665835\" data-h=\"692\" data-scale=\"preview\" data-scales-info='{\"thumb\": {\"w\": 128, \"h\": 170}, \"high\": {\"w\": 1400, \"h\": 1863}, \"tile\": {\"w\": 64, \"h\": 85}, \"mini\": {\"w\": 200, \"h\": 266}, \"preview\": {\"w\": 400, \"h\": 532}, \"icon\": {\"w\": 32, \"h\": 42}, \"large\": {\"w\": 768, \"h\": 1022}, \"listing\": {\"w\": 16, \"h\": 21}}' data-w=\"520\"><img alt=\"JOSE RODOLFO VILLARREAL-HERNANDEZ\" class=\"\" src=\"https://www.fbi.gov/wanted/topten/jose-rodolfo-villarreal-hernandez/@@images/image/preview\"/><img alt=\"Status Overlay Banner\" class=\"overlay-image\" src=\"++resource++fbigovct/person/status-overlays/captured.svg\"/></div>\n",
       " </a>\n",
       " <h3 class=\"title\">\n",
       " <a href=\"https://www.fbi.gov/wanted/topten/jose-rodolfo-villarreal-hernandez\">JOSE RODOLFO VILLARREAL-HERNANDEZ</a>\n",
       " </h3>\n",
       " </li>]"
      ]
     },
     "execution_count": 44,
     "metadata": {},
     "output_type": "execute_result"
    }
   ],
   "source": [
    "soup.select(\".portal-type-person\")"
   ]
  },
  {
   "cell_type": "code",
   "execution_count": 46,
   "id": "ff7cda46",
   "metadata": {},
   "outputs": [],
   "source": [
    "most_wanted = []\n",
    "\n",
    "for m in soup.find_all(class_=\"title\"):\n",
    "    links = m.find_all('a')\n",
    "    for l in links:\n",
    "        text = l.get_text()\n",
    "        most_wanted.append(text)"
   ]
  },
  {
   "cell_type": "code",
   "execution_count": 47,
   "id": "3a417532",
   "metadata": {},
   "outputs": [
    {
     "data": {
      "text/plain": [
       "['Most Wanted',\n",
       " 'ALEJANDRO ROSALES CASTILLO',\n",
       " 'RUJA IGNATOVA',\n",
       " 'DONALD EUGENE FIELDS II',\n",
       " 'ALEXIS FLORES',\n",
       " 'ARNOLDO JIMENEZ',\n",
       " 'OMAR ALEXANDER CARDENAS',\n",
       " 'YULAN ADONAY ARCHAGA CARIAS',\n",
       " 'BHADRESHKUMAR CHETANBHAI PATEL',\n",
       " 'WILVER VILLEGAS-PALOMINO',\n",
       " 'JOSE RODOLFO VILLARREAL-HERNANDEZ']"
      ]
     },
     "execution_count": 47,
     "metadata": {},
     "output_type": "execute_result"
    }
   ],
   "source": [
    "most_wanted"
   ]
  },
  {
   "cell_type": "code",
   "execution_count": 61,
   "id": "2ecec417",
   "metadata": {},
   "outputs": [],
   "source": [
    "url = \"https://www.emsc-csem.org/Earthquake/\"\n",
    "response = requests.get(url)\n",
    "soup = BeautifulSoup(response.content, \"html.parser\")\n",
    "#soup"
   ]
  },
  {
   "cell_type": "code",
   "execution_count": null,
   "id": "cb5250a8",
   "metadata": {},
   "outputs": [],
   "source": []
  },
  {
   "cell_type": "code",
   "execution_count": null,
   "id": "d0c3656c",
   "metadata": {},
   "outputs": [],
   "source": []
  },
  {
   "cell_type": "code",
   "execution_count": null,
   "id": "b84950b0",
   "metadata": {},
   "outputs": [],
   "source": []
  }
 ],
 "metadata": {
  "kernelspec": {
   "display_name": "Python 3 (ipykernel)",
   "language": "python",
   "name": "python3"
  },
  "language_info": {
   "codemirror_mode": {
    "name": "ipython",
    "version": 3
   },
   "file_extension": ".py",
   "mimetype": "text/x-python",
   "name": "python",
   "nbconvert_exporter": "python",
   "pygments_lexer": "ipython3",
   "version": "3.10.9"
  }
 },
 "nbformat": 4,
 "nbformat_minor": 5
}
